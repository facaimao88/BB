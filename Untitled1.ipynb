{
 "cells": [
  {
   "cell_type": "code",
   "execution_count": null,
   "id": "e9498004",
   "metadata": {},
   "outputs": [],
   "source": [
    "import win32com.client as win32\n",
    "xl=win32.Dispatch(\"Excel.Application\")\n",
    "xl.Workbooks.Open(Filename=\"C:\\\\Users\\\\Home\\\\Documents\\\\Python Testing\\\\Book2.xlsm\",ReadOnly=0)\n",
    "xl.Visible = True"
   ]
  }
 ],
 "metadata": {
  "kernelspec": {
   "display_name": "Python 3 (ipykernel)",
   "language": "python",
   "name": "python3"
  },
  "language_info": {
   "codemirror_mode": {
    "name": "ipython",
    "version": 3
   },
   "file_extension": ".py",
   "mimetype": "text/x-python",
   "name": "python",
   "nbconvert_exporter": "python",
   "pygments_lexer": "ipython3",
   "version": "3.9.7"
  }
 },
 "nbformat": 4,
 "nbformat_minor": 5
}
