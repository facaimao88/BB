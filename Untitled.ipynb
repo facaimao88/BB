{
 "cells": [
  {
   "cell_type": "code",
   "execution_count": null,
   "id": "b4ab58a6",
   "metadata": {},
   "outputs": [],
   "source": [
    "#open poem2.txt as poem2_file in read mode\n",
    "poem2_file = open('poem2.txt', 'r')\n",
    "\n",
    "#create a list of strings, called poem2_lines, from each line of poem2_text (use .readlines())\n",
    "poem2_lines = poem2_file.readlines()\n",
    "\n",
    "#remove the newline character for each list item in poem2_lines\n",
    "count = 0\n",
    "\n",
    "for line in poem2_lines:\n",
    "    poem2_lines[count] = line[:-1]\n",
    "    count += 1"
   ]
  },
  {
   "cell_type": "code",
   "execution_count": 1,
   "id": "d069c796",
   "metadata": {},
   "outputs": [
    {
     "name": "stdout",
     "output_type": "stream",
     "text": [
      "Requirement already satisfied: openpyxl in c:\\programdata\\anaconda3\\lib\\site-packages (3.0.9)\n",
      "Requirement already satisfied: et-xmlfile in c:\\programdata\\anaconda3\\lib\\site-packages (from openpyxl) (1.1.0)\n",
      "Note: you may need to restart the kernel to use updated packages.\n"
     ]
    }
   ],
   "source": [
    "pip install openpyxl"
   ]
  },
  {
   "cell_type": "code",
   "execution_count": 2,
   "id": "9db34497",
   "metadata": {},
   "outputs": [],
   "source": [
    "import openpyxl"
   ]
  },
  {
   "cell_type": "code",
   "execution_count": 4,
   "id": "a7ecfab6",
   "metadata": {},
   "outputs": [],
   "source": [
    "from openpyxl import Workbook, load_workbook"
   ]
  },
  {
   "cell_type": "code",
   "execution_count": 10,
   "id": "5042fb50",
   "metadata": {},
   "outputs": [
    {
     "name": "stdout",
     "output_type": "stream",
     "text": [
      "Empty DataFrame\n",
      "Columns: []\n",
      "Index: []\n"
     ]
    }
   ],
   "source": [
    "file_name = \"MASTER Settlement Price_ Mar17v3.xlsm\"\n",
    "#sheet =  # sheet name or sheet number or list of sheet numbers and names\n",
    "\n",
    "import pandas as pd\n",
    "df = pd.read_excel(io=file_name)\n",
    "print(df.head(20))  # print first 5 rows of the dataframe\n",
    "#wb = load_workbook('MASTER Settlement Price_ Mar17v3.xlsm')"
   ]
  },
  {
   "cell_type": "code",
   "execution_count": 74,
   "id": "4ddce494",
   "metadata": {},
   "outputs": [],
   "source": [
    "import openpyxl\n",
    "import xlsxwriter\n",
    "import xlwt\n",
    "import xlrd\n",
    "import os\n",
    "import win32com.client\n",
    "#os.system('start excel.exe Book2.xlsm',ReadOnly=2)"
   ]
  },
  {
   "cell_type": "code",
   "execution_count": 20,
   "id": "a2f82ce5",
   "metadata": {},
   "outputs": [
    {
     "ename": "com_error",
     "evalue": "(-2147352567, 'Exception occurred.', (0, 'Microsoft Excel', \"Sorry, we couldn't find MASTER_Settlement_Price_Mar17v.xlsm. Is it possible it was moved, renamed or deleted?\", 'xlmain11.chm', 0, -2146827284), None)",
     "output_type": "error",
     "traceback": [
      "\u001b[1;31m---------------------------------------------------------------------------\u001b[0m",
      "\u001b[1;31mcom_error\u001b[0m                                 Traceback (most recent call last)",
      "\u001b[1;32m~\\AppData\\Local\\Temp/ipykernel_2380/2308095956.py\u001b[0m in \u001b[0;36m<module>\u001b[1;34m\u001b[0m\n\u001b[0;32m      1\u001b[0m \u001b[1;32mimport\u001b[0m \u001b[0mwin32com\u001b[0m\u001b[1;33m.\u001b[0m\u001b[0mclient\u001b[0m\u001b[1;33m\u001b[0m\u001b[1;33m\u001b[0m\u001b[0m\n\u001b[0;32m      2\u001b[0m \u001b[0mxl\u001b[0m\u001b[1;33m=\u001b[0m\u001b[0mwin32com\u001b[0m\u001b[1;33m.\u001b[0m\u001b[0mclient\u001b[0m\u001b[1;33m.\u001b[0m\u001b[0mDispatch\u001b[0m\u001b[1;33m(\u001b[0m\u001b[1;34m\"Excel.Application\"\u001b[0m\u001b[1;33m)\u001b[0m\u001b[1;33m\u001b[0m\u001b[1;33m\u001b[0m\u001b[0m\n\u001b[1;32m----> 3\u001b[1;33m \u001b[0mxl\u001b[0m\u001b[1;33m.\u001b[0m\u001b[0mWorkbooks\u001b[0m\u001b[1;33m.\u001b[0m\u001b[0mOpen\u001b[0m\u001b[1;33m(\u001b[0m\u001b[0mFilename\u001b[0m\u001b[1;33m=\u001b[0m\u001b[1;34m\"MASTER_Settlement_Price_Mar17v.xlsm\"\u001b[0m\u001b[1;33m,\u001b[0m\u001b[0mReadOnly\u001b[0m\u001b[1;33m=\u001b[0m\u001b[1;36m1\u001b[0m\u001b[1;33m)\u001b[0m\u001b[1;33m\u001b[0m\u001b[1;33m\u001b[0m\u001b[0m\n\u001b[0m",
      "\u001b[1;32mC:\\ProgramData\\Anaconda3\\lib\\site-packages\\win32com\\client\\dynamic.py\u001b[0m in \u001b[0;36mOpen\u001b[1;34m(self, Filename, UpdateLinks, ReadOnly, Format, Password, WriteResPassword, IgnoreReadOnlyRecommended, Origin, Delimiter, Editable, Notify, Converter, AddToMru, Local, CorruptLoad)\u001b[0m\n",
      "\u001b[1;31mcom_error\u001b[0m: (-2147352567, 'Exception occurred.', (0, 'Microsoft Excel', \"Sorry, we couldn't find MASTER_Settlement_Price_Mar17v.xlsm. Is it possible it was moved, renamed or deleted?\", 'xlmain11.chm', 0, -2146827284), None)"
     ]
    }
   ],
   "source": []
  },
  {
   "cell_type": "code",
   "execution_count": 72,
   "id": "c11a2c78",
   "metadata": {},
   "outputs": [],
   "source": [
    "import win32com.client as win32\n",
    "xl=win32.Dispatch(\"Excel.Application\")\n",
    "xl.Workbooks.Open(Filename=\"C:\\\\Users\\\\Home\\\\Documents\\\\Python Testing\\\\Book2.xlsm\",ReadOnly=0)\n",
    "xl.Visible = True"
   ]
  },
  {
   "cell_type": "code",
   "execution_count": 64,
   "id": "d973e1a1",
   "metadata": {},
   "outputs": [
    {
     "data": {
      "text/plain": [
       "0"
      ]
     },
     "execution_count": 64,
     "metadata": {},
     "output_type": "execute_result"
    }
   ],
   "source": [
    "import os\n",
    "os.chdir('C:\\\\Users\\\\Home\\\\Documents\\\\Python Testing\\\\')\n",
    "\n",
    "os.system('start excel.exe Book2.xlsm')"
   ]
  },
  {
   "cell_type": "code",
   "execution_count": 38,
   "id": "c6e91252",
   "metadata": {},
   "outputs": [],
   "source": [
    "import os, os.path\n",
    "import win32com.client\n",
    "\n",
    "if os.path.exists(\"MASTER_Settlement_Price_Mar17v.xlsm\"):\n",
    "    xl=win32com.client.Dispatch(\"Excel.Application\")\n",
    "    xl.Workbooks.Open(os.path.abspath(\"Book2.xlsm\"), ReadOnly=1)\n",
    "    xl.Application.Run(\"MASTER_Settlement_Price_Mar17v.xlsm!modulename.macroname\")\n",
    "##    xl.Application.Save() # if you want to save then uncomment this line and change delete the \", ReadOnly=1\" part from the open function.\n",
    "    xl.Application.Quit() # Comment this out if your excel script closes\n",
    "    del xl"
   ]
  },
  {
   "cell_type": "code",
   "execution_count": 60,
   "id": "d5832373",
   "metadata": {},
   "outputs": [],
   "source": [
    "#Import the following library to make use of the DispatchEx to run the macro\n",
    "import win32com.client as wincl\n",
    "\n",
    "def runMacro():\n",
    "\n",
    "    if os.path.exists(\"C:\\\\Users\\\\Home\\\\Documents\\\\Python Testing\\\\Book2.xlsm\"):\n",
    "\n",
    "        # DispatchEx is required in the newest versions of Python.\n",
    "        excel_macro = wincl.DispatchEx(\"Excel.application\")\n",
    "        excel_path = os.path.expanduser(\"C:\\\\Users\\\\home\\\\Documents\\\\Python Testing\\\\Book2.xlsm\")\n",
    "        workbook = excel_macro.Workbooks.Open(Filename = excel_path, ReadOnly =1)\n",
    "        excel_macro.Application.Run\n",
    "        #\\\n",
    "         #   (\"ThisWorkbook.Template2G\")\n",
    "        #Save the results in case you have generated data\n",
    "        workbook.Save()\n",
    "    excel_macro.Application.Quit()  \n",
    "    del excel_macro"
   ]
  },
  {
   "cell_type": "code",
   "execution_count": 59,
   "id": "78f33a1b",
   "metadata": {},
   "outputs": [
    {
     "ename": "NameError",
     "evalue": "name 'excel_macro' is not defined",
     "output_type": "error",
     "traceback": [
      "\u001b[1;31m---------------------------------------------------------------------------\u001b[0m",
      "\u001b[1;31mNameError\u001b[0m                                 Traceback (most recent call last)",
      "\u001b[1;32m~\\AppData\\Local\\Temp/ipykernel_2380/2348355476.py\u001b[0m in \u001b[0;36m<module>\u001b[1;34m\u001b[0m\n\u001b[0;32m      1\u001b[0m \u001b[0mfile\u001b[0m \u001b[1;33m=\u001b[0m \u001b[1;34m'C:\\\\Users\\\\Home\\\\Documents\\\\Python Testing\\\\Book1.xlsx'\u001b[0m\u001b[1;33m\u001b[0m\u001b[1;33m\u001b[0m\u001b[0m\n\u001b[1;32m----> 2\u001b[1;33m \u001b[0mexcel_macro\u001b[0m\u001b[1;33m.\u001b[0m\u001b[0mApplication\u001b[0m\u001b[1;33m.\u001b[0m\u001b[0mRun\u001b[0m\u001b[1;33m(\u001b[0m\u001b[1;34m'\\''\u001b[0m \u001b[1;33m+\u001b[0m \u001b[0mfile\u001b[0m \u001b[1;33m+\u001b[0m \u001b[1;34m'\\''\u001b[0m \u001b[1;33m+\u001b[0m \u001b[1;34m\"!Module1.Macro1\"\u001b[0m\u001b[1;33m)\u001b[0m\u001b[1;33m\u001b[0m\u001b[1;33m\u001b[0m\u001b[0m\n\u001b[0m",
      "\u001b[1;31mNameError\u001b[0m: name 'excel_macro' is not defined"
     ]
    }
   ],
   "source": [
    "file = 'C:\\\\Users\\\\Home\\\\Documents\\\\Python Testing\\\\Book1.xlsx'\n",
    "excel_macro.Application.Run('\\'' + file + '\\'' + \"!Module1.Macro1\")"
   ]
  },
  {
   "cell_type": "code",
   "execution_count": 58,
   "id": "93d0ffe8",
   "metadata": {},
   "outputs": [],
   "source": [
    "from win32com.client import Dispatch\n",
    "xl = Dispatch('Excel.Application')\n",
    "wb = xl.Workbooks.Open('C:\\\\Users\\\\Home\\\\Documents\\\\Python Testing\\\\Book1.xlsx')\n",
    "#time.sleep(60)\n",
    "#wb.Close(True)"
   ]
  },
  {
   "cell_type": "code",
   "execution_count": 75,
   "id": "c9964fe0",
   "metadata": {},
   "outputs": [
    {
     "ename": "ModuleNotFoundError",
     "evalue": "No module named 'xlutils'",
     "output_type": "error",
     "traceback": [
      "\u001b[1;31m---------------------------------------------------------------------------\u001b[0m",
      "\u001b[1;31mModuleNotFoundError\u001b[0m                       Traceback (most recent call last)",
      "\u001b[1;32m~\\AppData\\Local\\Temp/ipykernel_2380/4228281089.py\u001b[0m in \u001b[0;36m<module>\u001b[1;34m\u001b[0m\n\u001b[1;32m----> 1\u001b[1;33m \u001b[1;32mfrom\u001b[0m \u001b[0mxlutils\u001b[0m\u001b[1;33m.\u001b[0m\u001b[0mcopy\u001b[0m \u001b[1;32mimport\u001b[0m \u001b[0mcopy\u001b[0m\u001b[1;33m\u001b[0m\u001b[1;33m\u001b[0m\u001b[0m\n\u001b[0m\u001b[0;32m      2\u001b[0m \u001b[1;33m\u001b[0m\u001b[0m\n\u001b[0;32m      3\u001b[0m \u001b[0mwb_filename\u001b[0m \u001b[1;33m=\u001b[0m \u001b[1;34m'Book2.xlsm'\u001b[0m\u001b[1;33m\u001b[0m\u001b[1;33m\u001b[0m\u001b[0m\n\u001b[0;32m      4\u001b[0m \u001b[1;33m\u001b[0m\u001b[0m\n\u001b[0;32m      5\u001b[0m \u001b[0mwb_object\u001b[0m \u001b[1;33m=\u001b[0m \u001b[0mxlrd\u001b[0m\u001b[1;33m.\u001b[0m\u001b[0mopen_workbook\u001b[0m\u001b[1;33m(\u001b[0m\u001b[0mwb_filename\u001b[0m\u001b[1;33m)\u001b[0m\u001b[1;33m\u001b[0m\u001b[1;33m\u001b[0m\u001b[0m\n",
      "\u001b[1;31mModuleNotFoundError\u001b[0m: No module named 'xlutils'"
     ]
    }
   ],
   "source": [
    "from xlutils.copy import copy\n",
    "\n",
    "wb_filename = 'Book2.xlsm'\n",
    "\n",
    "wb_object = xlrd.open_workbook(wb_filename)\n",
    "wb_object = True"
   ]
  },
  {
   "cell_type": "code",
   "execution_count": null,
   "id": "74a38dea",
   "metadata": {},
   "outputs": [],
   "source": []
  }
 ],
 "metadata": {
  "kernelspec": {
   "display_name": "Python 3 (ipykernel)",
   "language": "python",
   "name": "python3"
  },
  "language_info": {
   "codemirror_mode": {
    "name": "ipython",
    "version": 3
   },
   "file_extension": ".py",
   "mimetype": "text/x-python",
   "name": "python",
   "nbconvert_exporter": "python",
   "pygments_lexer": "ipython3",
   "version": "3.9.7"
  }
 },
 "nbformat": 4,
 "nbformat_minor": 5
}
